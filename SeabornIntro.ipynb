{
  "metadata": {
    "kernelspec": {
      "name": "python",
      "display_name": "Python (Pyodide)",
      "language": "python"
    },
    "language_info": {
      "codemirror_mode": {
        "name": "python",
        "version": 3
      },
      "file_extension": ".py",
      "mimetype": "text/x-python",
      "name": "python",
      "nbconvert_exporter": "python",
      "pygments_lexer": "ipython3",
      "version": "3.8"
    }
  },
  "nbformat_minor": 4,
  "nbformat": 4,
  "cells": [
    {
      "cell_type": "markdown",
      "source": "# Seaborn -- higher level python library for data visualize\n\n------> built directly on top of the lower level Matplotlib\n\n------> statistical plotting library, specifically design to interact well with pandas dataframe to create common statistical plot types\n\n------> usually requires only single line of code to generate different types of data visualization",
      "metadata": {}
    },
    {
      "cell_type": "markdown",
      "source": "##### Tradeoff vs matplot\n\n#-----> we tradeoff customization ability of matplolib with ease of use of seaborn\n\n#-----> *BUT --> since seaborn is built on top of matplot ,we can still matplt method calls to directly affect/customize the resulting seaborn plots\n\n#-----> i.e seaborn is an abstraction of all the lower level matplot commands & is grabiing the same Figure bject & Axes objects. And its doing all this using its fuction method calls   ",
      "metadata": {}
    },
    {
      "cell_type": "code",
      "source": "# example ---> scatter plot\n\nimport pandas as pd </br>\nimport seaborn as sns\n\n\nsns.scatterplot(x=\"salary\", y=\"sales\", data=df)  #---->i.e we only call plot type method call & pass in pandas dataframe & what column we want in x & y  ",
      "metadata": {
        "trusted": true
      },
      "outputs": [],
      "execution_count": null
    },
    {
      "cell_type": "code",
      "source": "",
      "metadata": {
        "trusted": true
      },
      "outputs": [],
      "execution_count": null
    }
  ]
}