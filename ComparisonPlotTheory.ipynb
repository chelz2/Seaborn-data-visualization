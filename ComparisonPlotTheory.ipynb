{
  "metadata": {
    "kernelspec": {
      "name": "python",
      "display_name": "Python (Pyodide)",
      "language": "python"
    },
    "language_info": {
      "codemirror_mode": {
        "name": "python",
        "version": 3
      },
      "file_extension": ".py",
      "mimetype": "text/x-python",
      "name": "python",
      "nbconvert_exporter": "python",
      "pygments_lexer": "ipython3",
      "version": "3.8"
    }
  },
  "nbformat_minor": 4,
  "nbformat": 4,
  "cells": [
    {
      "cell_type": "markdown",
      "source": "# Comparison plots in Seaborn\n    \n    - understanding plots & when to use them\n\n#### - It is then 2 dimensional version of all the plots we learnt\n         - we have already seen seperate plot types but they are just joined together & combined\n\n#### Two main comparisons plots\n        - joint plot\n        - pair plot\n",
      "metadata": {}
    },
    {
      "cell_type": "markdown",
      "source": "### Joint Plot",
      "metadata": {}
    },
    {
      "cell_type": "code",
      "source": "# joint plot ----> we can map histogram to each feature along with scatter plot to clarify the distribution within each of \n                 # each of those fetures in the scatter plot\n\n#---> we can also adjust the scatter plot to be a hexagonal plot or 2 dimensional KDE plot \n\n# eg -->\n\n# Histograms with scatter plot \n\n# ----> i.e the basic joint plot is a scatter plot of two continuos feature that adds in the histogram \n\n# ----> eg - joint plot showing relation bet math score & reading score on scatter plot & then joint plot adds in histograms\n\n# Histograms with hexagons\n\n# ---> i.e with joint plots we have different options of how to display relationship, that is we can also use hexagon instead of scatter plot\n\n#----> hexagons are more dark as more pts fall into that area & we can also adjust the area of that hexagons which is very useful \n        # if we have many pts that overlaps (which in scatter plot, it is not clear how many pts we have overlap area though we can pass in alpha value\n         # in scatter plot to make dots little transparent)\n\n        # * But using this hexagon plot instead or scatter is little more useful , as it narrow downs the band ranges & clarifies the \n            # where we see the relation\n\n# 2KDE plots ---> i.e it dont have to a histogram but can laso be KDE\n\n#----> we get to see KDE plot per feature eg- KDE of both reading & math score, \n\n#---->and then shows 2 dimensional kde relatonship, a shaded distrubution between both the Kdes, eg - math & reading score\n\n#----> NB - i.e this type 2D kde plot is not common for certain field *but it is very common in certain scientific fields (we should the audience \n            #  before  showing a kde plot thatthey are familiar with plot type)\n",
      "metadata": {
        "trusted": true
      },
      "outputs": [],
      "execution_count": 2
    },
    {
      "cell_type": "markdown",
      "source": "### Pair plot",
      "metadata": {}
    },
    {
      "cell_type": "code",
      "source": "# pair plot ---> pair plots are super useful \n\n#-----> this one super common to see throuh out the visual exploration & exploratory data analysis of the datasets within ML\n\n#-----> It is a very quick way to compare all the numerical column in the dataframe \n\n#-----> i.e, it automatically creates a histogram for each column so we can distribution of all the numerical features \n\n#-----> & then it also create a scatter plot comparison between all possible combinations of those numerical columns\n\n#-----> NB - i.e, this Pair plot only works for numerical columns \n\n\n\n#WARNING --> pairplot command in seaborn can be CPU & RAM intensive for large dataframes with many columns \n\n#--------> i.e it is good idea to filter down to only columns we are interested using pandasin before calling pairplot metod on full dataframe  \n\n# Example \n#---> eg we filter down to only to just score columns fraom student table dataset - math score , reading score, wwiting score\n\n#---> by defaakt, on diagonal it shows the histogram distribution for each of those individual score types \n#---> & then we can see the scatter plot for all the possible combinations of these numerical column eg - reading score V?s math score etc\n#---> by deafualt we can also see that this scatter plot are mirrored across diagonal- as reding sore v/s math score is same as math v/s reading etc\n\n\n\n# hue param \n# --->i.e, we also have option to add in hue param which is great if we are dealing with ML datset that uses labels for varios classes or categoris\n\n# eg - showing the same relationship plot betwween numerical column but adding color base of gender categorical parameter \n\n\n#NB ---> if we want we can also change diagonals to be a KDE instead of a histogram\n\n# NB --> as one of the diagonal is mirrored repeated info plots, so we ll see peaple get rid of that top diagonal plots\n        # to not show a duplicate infos\n\n\n",
      "metadata": {
        "trusted": true
      },
      "outputs": [],
      "execution_count": 4
    },
    {
      "cell_type": "code",
      "source": "",
      "metadata": {
        "trusted": true
      },
      "outputs": [],
      "execution_count": null
    }
  ]
}