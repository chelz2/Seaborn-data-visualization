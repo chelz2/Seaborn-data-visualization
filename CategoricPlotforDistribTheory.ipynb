{
  "metadata": {
    "kernelspec": {
      "name": "python",
      "display_name": "Python (Pyodide)",
      "language": "python"
    },
    "language_info": {
      "codemirror_mode": {
        "name": "python",
        "version": 3
      },
      "file_extension": ".py",
      "mimetype": "text/x-python",
      "name": "python",
      "nbconvert_exporter": "python",
      "pygments_lexer": "ipython3",
      "version": "3.8"
    }
  },
  "nbformat_minor": 4,
  "nbformat": 4,
  "cells": [
    {
      "cell_type": "markdown",
      "source": "# Categotical plots for Distribution within the category\n \n * understanding distribution wihtin categories & different plot types and when to use them\n\n   --> we already learnt distribution for single featue, eg - histogram plot, kde plot, rug plot\n\n   --> what happpens if we want to compare/see distrubution across categories\n\n   eg- compare distribution salary per level of education category\n\n   #Nb - i.e - we can seperate out the dataframes themselves & create a histogram for each of these categories *BUT there is better plot types to compare this distribution per categories\n\n   * What we'll do for each of plot types\n     - we seperate out by category along an axis\n     - & then create a data visualize plot per category\n  \n#  * Plot types - distribution within categories\n\n    - BoxPlot\n    - Violin Plot\n    - Swarm Plot\n    - Boxen plot (letter-value plot)\n\n\n    # NB --> ***BocPlot is most commonly used plot for distribution within categories\n",
      "metadata": {}
    },
    {
      "cell_type": "markdown",
      "source": "### Box PLot",
      "metadata": {}
    },
    {
      "cell_type": "code",
      "source": "# boxplot ----> display distribution of continuos variable \n\n# ---> it visually shows the statistical parameters base of the use of the use of quartiles\n\n#----> quartile seperate out data pts into four equal number of data pts\n\n#----> i.e, 25% of data pts are in bottom quartile and 25% of data pts in top quartin \n\n#---->  i.e 50 % quartiel (Q2) is the median, splits data pts in half\n\n\n# Box plot on single feature - eg- all the data pts for salary & visualize it box plot\n\n# feeaure of boxplot -\n    # --> at mid we have Boxlot itself (boxplot are also calle box & whisker plot) as we can see whisker extend outside the box\n\n    # --> in box, we can seen a line which is he 5)th percentile (Q2), the median\n\n    # ---> this median line splits the data in half eg - median salary 90k means half of the salary is below 90K & other half above 90K\n\n    # ---> IQR- Inter Quartile Range which is the box width, it represets the middle 50 % of all the daya points\n\n    # ---> 50 % of all data pts fall under this Box that range from Q! & Q3 and is called IQR\n\n    # ---> Q1 is the 25 percentile separating the line for bottom 25 % of all the data pts v/s everything else\n\n    #---> i.e 25 % of data pts are below Q1, eg - 25 % of the lowest salaries in the dataset  \n\n    # --> Q3 is the 75th percentile, which means highest 25 % of data pts are above Q3\n\n    #----> *Whisker are in general define by 1.5 times the IQR width, i.e we have this interquartile range between 25th percentile & 75th percentile\n\n    #---> * Outliers - by convention anything outside of this 1.5times the IQR range are labeled as Outliers\n\n\n# NB --> i.e boxplot can quickly give us the statistical infos in this visual format of the data \n\n        #--> boxplot can be oriented both vertically or horizantally\n\n\n# Boxplot per category ---> eg- displaying boxplot for salary for all the level of education\n\n    # ----> we can directly compare distribution across the category\n\n    #--> NB i.e we can also flip the box plot such that categories are on x-axis and Y-axis is continiuos variable that we want distribution for(salary) \n    \n#NB --> what is not displayed in boxplot is the *Count per category \n\n        # eg - master degree showing very less variance but it is not showing that there is lot less peaple with master v/s ohers\n\n        # Nb -- i.e boxplot is not reporting the no. of count in each category \n\n        # ---> i.e it is simply representing the distibution base of those statistical estimations of those Quartiles \n\n\n\n\n",
      "metadata": {
        "trusted": true
      },
      "outputs": [],
      "execution_count": 3
    },
    {
      "cell_type": "markdown",
      "source": "### Violin Plot",
      "metadata": {}
    },
    {
      "cell_type": "code",
      "source": "# Violin Plot ---> plays similar role as the bosplot\n\n#----> displays the probablity density across the data using KDE \n\n#-----> we can think of violin plot as the mirrred KDE plot which is essentially all it is\n\n# KDE plot of a single continuos feature, eg- salry\n\n#---> to contruct the violin plot from KDE plot is we mirror this KDE plot & we join it together which then looks like violin (hence name as violin)\n\n#---> i.e when we call violin plot with seaborn we get a violin plot (KDE plot mirrored & joined)\n\n# featue in violin Plot -\n\n    # white dot --> reprents the median\n\n    # box within violin plot ---> this is the InterQuartileRange ( IQR) for the violin plot \n\n    # i.e --> it is showing us infos from inner boxplot itself in the middle, and then it also shows KDE curve for distribution itself \n\n# --> thus we can create violin plot per category,  eg -  salary per department ",
      "metadata": {
        "trusted": true
      },
      "outputs": [],
      "execution_count": 4
    },
    {
      "cell_type": "markdown",
      "source": "### Swarm Plot",
      "metadata": {}
    },
    {
      "cell_type": "code",
      "source": "# Swarm plots ---> shows all data pts in the distribution\n\n#NB --> for large dataset, it will not be able to display all data pts, but it ll selectively display the pts so we do get \n        # to see the general distubution of data pts\n\n# eg ---> for all the salary data pts, we plot them all which eds up looking like a violin plot\n\n# NB --> i.e this swarm plot is not a immor image, but it balance out where to place pts that it looks like a mirrored\n\n#----> i.e we can see the outlier data pts thet this plot is not a mirror image *BUT it is a 1 dot per data pt\n\n\n# --> Thus we can have a Swarm plot per category, eg- showing all the salaries per employees & where they fall\n\n# i.e --> this swarmplot is way of showing at best as we can the raw data infos \n\n#---> this plot actually display how many data pts we have per category which boxplot & violin plot is not able to tell us\n\n# eg ---> no. of peaple in each level of education categories\n\n# size of dots --> if we have many data pts then we can change size of dots to display more pts as we can display on plots\n\n",
      "metadata": {
        "trusted": true
      },
      "outputs": [],
      "execution_count": 5
    },
    {
      "cell_type": "markdown",
      "source": "### Boxen Plot (letter value plot )",
      "metadata": {}
    },
    {
      "cell_type": "code",
      "source": "# Boxen plot (officially called letter value plot )\n\n# ----> a new plot developed in 2011 by Wickham (founder of R programming language)\n\n# ----> designed as the expansion upon the normal Boxplot we use \n\n#----> refer docs for more\n\n# NB ---> it is very uncommon, i.e it is recommend we use this plot only if we know the audience is familiar with the this plot\n\n# ----> * Recommend to not use this plot for general audience \n\n# ---> it is a very informative plot & better than boxplot *BUT the whole point of data visualization is clarify things for audience \n     # & not confuse them, *OR explain half of time what the plot is before showing the data plot\n\n# boxen plot\n\n# ---> it uses a system of letter-values we can use **mutiple quantiles instead of strictly using quartiles\n\n#----> it automatically calculates multiple quantiles base off how may pts we have in a distribution\n\n#----> it shows actual distribution within quantiles instead of strictly just quartiles\n\n#----> i.e it is show us more boxes to blend the difference between a boxplot & a KDE plot\n\n# ---> i.e it shows quantiles outside of the regular quantiles, (we can think as if - giving thickness to whiskers in same way as we get get data in middle of the plot)\n\n\n\n# NB - i.e the main purpose of data visual is not to inform & not confuse or show some esoteric data plots ",
      "metadata": {
        "trusted": true
      },
      "outputs": [],
      "execution_count": null
    }
  ]
}